{
 "cells": [
  {
   "cell_type": "markdown",
   "metadata": {},
   "source": [
    "PIL(Python Imaging Library) — библиотека Python предназначена для работы с растровой графикой.\n",
    "\n",
    "Текущей бесплатной версией является PIL 1.1.7 . Этот выпуск поддерживает Python 1.5.2 и новее, включая версии 2.5 и 2.6. Последняя правка PIL датируется 2011 годом. Однако существует проект под названием Pillow, являющийся форком PIL, развивается и включает, в том числе, поддержку Python 3.x, что PIL никогда не делал. Обратите внимание, что вы не можете одновременно устанавливать как PIL, так и Pillow. В их документации есть некоторые предупреждения, в которых перечислены некоторые различия между ними. Сегодня мы будем использовать Pillow.\n",
    "\n",
    "Итак, для начала установим Pillow, набрав простую команду:"
   ]
  },
  {
   "cell_type": "markdown",
   "metadata": {},
   "source": [
    "pip install Pillow"
   ]
  },
  {
   "cell_type": "markdown",
   "metadata": {},
   "source": [
    "Я расскажу вам о самых используемых Модулях PIL, больше вы можете узнать в официальной документации:\n",
    "    https://pillow.readthedocs.io/en/5.3.x/#"
   ]
  },
  {
   "cell_type": "markdown",
   "metadata": {},
   "source": [
    "Давайте создадим нашу картинку. Для того понадобится модуль Image и ImageDraw.\n",
    "ImageDraw Модуль обеспечивает простые 2D - графики для Imageобъектов. \n",
    "Вы можете использовать этот модуль для создания новых изображений, аннотировать или ретушировать существующие изображения\n",
    "и генерировать графики «на лету» для использования в Интернете.\n"
   ]
  },
  {
   "cell_type": "markdown",
   "metadata": {},
   "source": [
    "PIL.Image.open( fp , mode = 'r' ) - Открывает и идентифицирует данный файл изображения.\n",
    "PIL.Image.new( режим , размер , цвет = 0 ) - Создает новое изображение с заданным режимом и размером.\n",
    ".show\n",
    ".text"
   ]
  },
  {
   "cell_type": "code",
   "execution_count": 301,
   "metadata": {},
   "outputs": [],
   "source": [
    "from PIL import Image\n",
    "from PIL import ImageDraw\n",
    "text = \"Hi,PIL!\" #задаем текст\n",
    "color = (300, 100, 200) #выбираем цвет\n",
    "img = Image.new('RGB', (300, 100), color) #создаем изображение\n",
    "imgDrawer = ImageDraw.Draw(img) #создаем объект для рисования\n",
    "imgDrawer.text((10, 20), text) #рисуем текст\n",
    "img.save(\"my_picture.png\")\n",
    "img.show()"
   ]
  },
  {
   "cell_type": "markdown",
   "metadata": {},
   "source": [
    "Вы можете получить много информации об изображении, используя Pillow. Давайте рассмотрим лишь несколько небольших примеров того, что мы можем извлечь:"
   ]
  },
  {
   "cell_type": "code",
   "execution_count": 302,
   "metadata": {
    "scrolled": true
   },
   "outputs": [
    {
     "name": "stdout",
     "output_type": "stream",
     "text": [
      "[(300, 100), 'PNG', 'RGB']\n"
     ]
    }
   ],
   "source": [
    "img = Image.open('my_picture.png') #открываем картинку\n",
    "size = img.size #размер картинки\n",
    "format = img.format #формат картинки\n",
    "mode = img.mode #мод\n",
    "arr = [] #создаем пустой массив \n",
    "arr.append(size)  #добавляем размер в массив\n",
    "arr.append(format) #добавляем формат в массив\n",
    "arr.append(mode)  #добавляем мод в массив\n",
    "print(arr) #выводим массив"
   ]
  },
  {
   "cell_type": "markdown",
   "metadata": {},
   "source": [
    "Для демонстрации следующих возможностей, создадим еще одно изображение:"
   ]
  },
  {
   "cell_type": "code",
   "execution_count": 303,
   "metadata": {},
   "outputs": [],
   "source": [
    "from PIL import Image\n",
    "from PIL import ImageDraw\n",
    "text = \"Hi,PIL! :)\"\n",
    "color = (0, 100, 300) \n",
    "img = Image.new('RGB', (300, 100), color) \n",
    "imgDrawer = ImageDraw.Draw(img) \n",
    "imgDrawer.text((10, 20), text) \n",
    "img.save(\"my_picture2.png\")\n",
    "img.show()"
   ]
  },
  {
   "cell_type": "markdown",
   "metadata": {},
   "source": [
    "Функция PIL.Image.blend(im1, im2, alpha) создает новое изображение, интерполируя между двумя входными изображениями, используя константу alpha. \n",
    "im1 - Первое изображение.\n",
    "im2 - второе изображение. Должено иметь тот же режим и размер, что и первое изображение.\n",
    "alpha - Интерполяционный альфа-фактор. Если альфа 0.0, возвращается копия первого изображения. Если альфа 1.0, возвращается копия второго изображения. Нет никаких ограничений на значение альфа. При необходимости результат обрезается, чтобы вписаться в допустимый выходной диапазон."
   ]
  },
  {
   "cell_type": "code",
   "execution_count": 304,
   "metadata": {},
   "outputs": [],
   "source": [
    "im1=Image.open('my_picture.png')\n",
    "im2=Image.open('my_picture2.png')\n",
    "im3=Image.blend( im1 , im2, 0.5) \n",
    "im3.show()"
   ]
  },
  {
   "cell_type": "markdown",
   "metadata": {},
   "source": [
    "Другая функция - Image.convert( mode = None , matrix = None , dither = None , palette = 0 , colors = 256 ) возвращает преобразованную копию этого изображения. \n",
    "\n",
    "mode - запрошенный режим. См. Режимы: https://pillow.readthedocs.io/en/5.3.x/handbook/concepts.html#concept-modes\n",
    "matrix - необязательная матрица преобразования. Если задано, это должно быть 4- или 12-кортеж, содержащий значения с плавающей запятой.\n",
    "dither - Метод сглаживания , используемый при преобразовании из режима «RGB» в «P» или из «RGB» или «L» в «1». Доступные методы: NONE или FLOYDSTEINBERG (по умолчанию). Обратите внимание, что это не используется, когда поставляется матрица .\n",
    "palette - Палитра, используемая при преобразовании из режима «RGB» в «P». Доступные палитры являются WEB или ADAPTIVE.\n",
    "colors - количество цветов для палитры ADAPTIVE. По умолчанию 256.\n",
    "\n",
    "Например:\n",
    "Режим «1» - для преобразования изображения в оттенках серого («L») или «RGB» в изображение «bilevel»"
   ]
  },
  {
   "cell_type": "code",
   "execution_count": 131,
   "metadata": {},
   "outputs": [
    {
     "data": {
      "image/png": "[encoded data removed]",
      "text/plain": [
       "<PIL.Image.Image image mode=1 size=300x100 at 0x2748D3AF630>"
      ]
     },
     "execution_count": 131,
     "metadata": {},
     "output_type": "execute_result"
    }
   ],
   "source": [
    "im2.convert( mode = \"1\" , matrix = None , dither = None , palette = 0 , colors = 256 )"
   ]
  },
  {
   "cell_type": "markdown",
   "metadata": {},
   "source": [
    "Режим «L» - в оттенки серого:"
   ]
  },
  {
   "cell_type": "code",
   "execution_count": 132,
   "metadata": {},
   "outputs": [
    {
     "data": {
      "image/png": "[encoded data removed]",
      "text/plain": [
       "<PIL.Image.Image image mode=L size=300x100 at 0x2748D3AF6D8>"
      ]
     },
     "execution_count": 132,
     "metadata": {},
     "output_type": "execute_result"
    }
   ],
   "source": [
    "im3.convert( mode = \"L\" , matrix = None , dither = None , palette = 0 , colors = 256 )"
   ]
  },
  {
   "cell_type": "code",
   "execution_count": 133,
   "metadata": {},
   "outputs": [
    {
     "data": {
      "image/png": "[encoded data removed]",
      "text/plain": [
       "<PIL.Image.Image image mode=L size=300x100 at 0x2748D3AFBE0>"
      ]
     },
     "execution_count": 133,
     "metadata": {},
     "output_type": "execute_result"
    }
   ],
   "source": [
    "im3.convert( mode = \"L\" , matrix = (0.5, 0, 0, 0, 0, 0.5, 0, 0, 0, 0, 0, 0) , dither = None , palette = 0 , colors = 256 ) "
   ]
  },
  {
   "cell_type": "markdown",
   "metadata": {},
   "source": [
    "В следующем примере преобразуется изображение RGB в цветовое пространство CIE XYZ:"
   ]
  },
  {
   "cell_type": "code",
   "execution_count": 134,
   "metadata": {},
   "outputs": [
    {
     "data": {
      "image/png": "[encoded data removed]",
      "text/plain": [
       "<PIL.Image.Image image mode=RGB size=300x100 at 0x2748D3AF978>"
      ]
     },
     "execution_count": 134,
     "metadata": {},
     "output_type": "execute_result"
    }
   ],
   "source": [
    "rgb2xyz = (\n",
    "    0.412453, 0.357580, 0.180423, 0,\n",
    "    0.212671, 0.715160, 0.072169, 0,\n",
    "    0.019334, 0.119193, 0.950227, 0 )\n",
    "\n",
    "im1.convert(\"RGB\", rgb2xyz)"
   ]
  },
  {
   "cell_type": "markdown",
   "metadata": {},
   "source": [
    "Image.crop( box = None ) Возвращает прямоугольную область из этого изображения. \n",
    "box представляет собой 4-кортеж, определяющий координату влево, вправо, вправо и в нижнем пикселе. Следует помнить, что библиотека изображений Python использует картографическую систему координат пикселей, с (0,0) в верхнем левом углу."
   ]
  },
  {
   "cell_type": "code",
   "execution_count": 136,
   "metadata": {},
   "outputs": [
    {
     "data": {
      "image/png": "[encoded data removed]",
      "text/plain": [
       "<PIL.Image.Image image mode=RGB size=100x100 at 0x2748D3AF8D0>"
      ]
     },
     "execution_count": 136,
     "metadata": {},
     "output_type": "execute_result"
    }
   ],
   "source": [
    "im3.crop( box = (0,0,100,100) )"
   ]
  },
  {
   "cell_type": "markdown",
   "metadata": {},
   "source": [
    "Image.paste( im , box = None , mask = None ) Вставляет другое изображение в это изображение."
   ]
  },
  {
   "cell_type": "code",
   "execution_count": 285,
   "metadata": {},
   "outputs": [],
   "source": [
    "im1.paste(im3.crop( box = (0,0,100,100) ))\n",
    "im1.show()"
   ]
  },
  {
   "cell_type": "markdown",
   "metadata": {},
   "source": [
    "Image.rotate( угол , resample = 0 , expand = 0 , center = None , translate = None , fillcolor = None ) Возвращает повернутую копию этого изображения. "
   ]
  },
  {
   "cell_type": "code",
   "execution_count": 294,
   "metadata": {},
   "outputs": [
    {
     "data": {
      "image/png": "[encoded data removed]",
      "text/plain": [
       "<PIL.Image.Image image mode=RGB size=300x100 at 0x2748D425828>"
      ]
     },
     "execution_count": 294,
     "metadata": {},
     "output_type": "execute_result"
    }
   ],
   "source": [
    "im3.rotate(30 , resample = 0 , expand = 0 , center = None , translate = None , fillcolor = None )"
   ]
  },
  {
   "cell_type": "markdown",
   "metadata": {},
   "source": [
    "Image.thumbnail( размер , resample = 3 ) Этот метод изменяет изображение, чтобы содержать версию миниатюры, не превышающую заданный размер."
   ]
  },
  {
   "cell_type": "code",
   "execution_count": 306,
   "metadata": {},
   "outputs": [],
   "source": [
    "img=im2\n",
    "img.resize( (100,100) , resample = 0 , box = None )\n",
    "img.show()"
   ]
  },
  {
   "cell_type": "markdown",
   "metadata": {},
   "source": [
    "Другой модуль ImageFilter содержит определение для заранее определенного набора фильтров, которые могут быть использоваться с Image.filter() методом. См. фильтры: https://pillow.readthedocs.io/en/5.3.x/reference/ImageFilter.html\n",
    "Например:"
   ]
  },
  {
   "cell_type": "code",
   "execution_count": 137,
   "metadata": {},
   "outputs": [
    {
     "data": {
      "image/png": "[encoded data removed]",
      "text/plain": [
       "<PIL.Image.Image image mode=RGB size=300x100 at 0x2748D3AF4E0>"
      ]
     },
     "execution_count": 137,
     "metadata": {},
     "output_type": "execute_result"
    }
   ],
   "source": [
    "from PIL import ImageFilter\n",
    "im3.filter(ImageFilter.FIND_EDGES)"
   ]
  },
  {
   "cell_type": "code",
   "execution_count": 138,
   "metadata": {},
   "outputs": [
    {
     "data": {
      "image/png": "[encoded data removed]",
      "text/plain": [
       "<PIL.Image.Image image mode=RGB size=300x100 at 0x2748D3AFE10>"
      ]
     },
     "execution_count": 138,
     "metadata": {},
     "output_type": "execute_result"
    }
   ],
   "source": [
    "im3.filter(ImageFilter.BLUR)"
   ]
  },
  {
   "cell_type": "code",
   "execution_count": 141,
   "metadata": {},
   "outputs": [
    {
     "data": {
      "image/png": "[encoded data removed]",
      "text/plain": [
       "<PIL.Image.Image image mode=RGB size=300x100 at 0x2748D3AF3C8>"
      ]
     },
     "execution_count": 141,
     "metadata": {},
     "output_type": "execute_result"
    }
   ],
   "source": [
    "im3.filter(ImageFilter.EDGE_ENHANCE)"
   ]
  },
  {
   "cell_type": "code",
   "execution_count": 150,
   "metadata": {},
   "outputs": [
    {
     "data": {
      "image/png": "[encoded data removed]",
      "text/plain": [
       "<PIL.Image.Image image mode=RGB size=300x100 at 0x2748D3B2F98>"
      ]
     },
     "execution_count": 150,
     "metadata": {},
     "output_type": "execute_result"
    }
   ],
   "source": [
    "im3.filter(ImageFilter.BoxBlur(5)) "
   ]
  },
  {
   "cell_type": "code",
   "execution_count": 148,
   "metadata": {
    "scrolled": true
   },
   "outputs": [
    {
     "data": {
      "image/png": "[encoded data removed]",
      "text/plain": [
       "<PIL.Image.Image image mode=RGB size=300x100 at 0x2748D3B2B70>"
      ]
     },
     "execution_count": 148,
     "metadata": {},
     "output_type": "execute_result"
    }
   ],
   "source": [
    "im3.filter(ImageFilter.MedianFilter( size = 3 ) )"
   ]
  },
  {
   "cell_type": "markdown",
   "metadata": {},
   "source": [
    "Следующий модуль ImageChops содержит ряд арифметических операций изображения, называемые операции канала ( «отбивные»). Они могут использоваться для различных целей, включая специальные эффекты, композиции изображений, алгоритмическую роспись и многое другое."
   ]
  },
  {
   "cell_type": "markdown",
   "metadata": {},
   "source": [
    "ImageChops.add( image1 , image2 , scale = 1.0 , offset = 0 ) добавляет два изображения, разделяя результат по шкале и добавляя смещение. Если опустить, значение масштаба по умолчанию равно 1,0 и смещено до 0,0."
   ]
  },
  {
   "cell_type": "code",
   "execution_count": 166,
   "metadata": {},
   "outputs": [
    {
     "data": {
      "image/png": "[encoded data removed]",
      "text/plain": [
       "<PIL.Image.Image image mode=RGB size=300x100 at 0x2748D3C5978>"
      ]
     },
     "execution_count": 166,
     "metadata": {},
     "output_type": "execute_result"
    }
   ],
   "source": [
    "from PIL import ImageChops\n",
    "ImageChops.add( im1 , im2 , scale = 4.0 , offset = 0 ) "
   ]
  },
  {
   "cell_type": "code",
   "execution_count": 167,
   "metadata": {},
   "outputs": [
    {
     "data": {
      "image/png": "[encoded data removed]",
      "text/plain": [
       "<PIL.Image.Image image mode=RGB size=300x100 at 0x2748D3C5630>"
      ]
     },
     "execution_count": 167,
     "metadata": {},
     "output_type": "execute_result"
    }
   ],
   "source": [
    "ImageChops.add_modulo( im1 , im2 )  #Добавляет два изображения без обрезки результата"
   ]
  },
  {
   "cell_type": "code",
   "execution_count": 180,
   "metadata": {},
   "outputs": [
    {
     "data": {
      "image/png": "[encoded data removed]",
      "text/plain": [
       "<PIL.Image.Image image mode=RGB size=300x100 at 0x2748D3D7748>"
      ]
     },
     "execution_count": 180,
     "metadata": {},
     "output_type": "execute_result"
    }
   ],
   "source": [
    "ImageChops.subtract( im1 , im2 , scale = 1.0 , offset = 0 ) #Вычитает два изображения по шкале со смещением"
   ]
  },
  {
   "cell_type": "markdown",
   "metadata": {},
   "source": [
    "Сравнивает два изображения, пиксель за пикселем и возвращает новое изображение, содержащее более темные значения:"
   ]
  },
  {
   "cell_type": "code",
   "execution_count": 175,
   "metadata": {},
   "outputs": [
    {
     "data": {
      "image/png": "[encoded data removed]",
      "text/plain": [
       "<PIL.Image.Image image mode=RGB size=300x100 at 0x2748D3C5C88>"
      ]
     },
     "execution_count": 175,
     "metadata": {},
     "output_type": "execute_result"
    }
   ],
   "source": [
    "ImageChops.darker( im1 , im2 ) "
   ]
  },
  {
   "cell_type": "markdown",
   "metadata": {},
   "source": [
    "Возвращает абсолютное значение пиксельной разницы между двумя изображениями."
   ]
  },
  {
   "cell_type": "code",
   "execution_count": 177,
   "metadata": {},
   "outputs": [
    {
     "data": {
      "image/png": "[encoded data removed]",
      "text/plain": [
       "<PIL.Image.Image image mode=RGB size=300x100 at 0x2748D3C5C18>"
      ]
     },
     "execution_count": 177,
     "metadata": {},
     "output_type": "execute_result"
    }
   ],
   "source": [
    "ImageChops.invert( im1 ) #Инвертирует изображение "
   ]
  },
  {
   "cell_type": "code",
   "execution_count": 179,
   "metadata": {},
   "outputs": [
    {
     "data": {
      "image/png": "[encoded data removed]",
      "text/plain": [
       "<PIL.Image.Image image mode=RGB size=300x100 at 0x2748D3D7470>"
      ]
     },
     "execution_count": 179,
     "metadata": {},
     "output_type": "execute_result"
    }
   ],
   "source": [
    "ImageChops.multiply( im1 , im2 ) #Накладывает друг надруга"
   ]
  },
  {
   "cell_type": "markdown",
   "metadata": {},
   "source": [
    "ImageDraw обеспечивает простые 2D - графики для Imageобъектов. Вы можете использовать этот модуль для создания новых изображений, аннотации или ретуширования существующих изображений, а также для генерации графики «на лету» для использования в Интернете.\n",
    "Нарисуем крест на изображении:"
   ]
  },
  {
   "cell_type": "code",
   "execution_count": 237,
   "metadata": {},
   "outputs": [],
   "source": [
    "from PIL import Image, ImageDraw\n",
    "\n",
    "im = Image.open(\"my_picture.png\")\n",
    "\n",
    "draw = ImageDraw.Draw(im)\n",
    "draw.line((0, 0) + im.size, fill=128)\n",
    "draw.line((0, im.size[1], im.size[0], 0), fill=128)\n",
    "\n",
    "im.show()"
   ]
  },
  {
   "cell_type": "markdown",
   "metadata": {},
   "source": [
    "ImageDraw.point( xy , fill = None ) pисует точки (отдельные пиксели) в заданных координатах:"
   ]
  },
  {
   "cell_type": "code",
   "execution_count": 238,
   "metadata": {},
   "outputs": [],
   "source": [
    "import random\n",
    "items = [(random.randint(0, 300),random.randint(0, 100)) for i in range(100)]\n",
    "draw.point( items , fill = 230 ) \n",
    "im.show()"
   ]
  },
  {
   "cell_type": "markdown",
   "metadata": {},
   "source": [
    "ImageDraw.polygon( xy , fill = None , outline = None ) pисует многоугольник:"
   ]
  },
  {
   "cell_type": "code",
   "execution_count": 239,
   "metadata": {},
   "outputs": [],
   "source": [
    "draw.polygon( [(100, 60), (10, 10), (155,90), (20,90), (100,100)] , fill = None , outline = None ) \n",
    "im.show()"
   ]
  },
  {
   "cell_type": "markdown",
   "metadata": {},
   "source": [
    "ImageDraw.text() рисует строку в заданной позиции"
   ]
  },
  {
   "cell_type": "code",
   "execution_count": 241,
   "metadata": {},
   "outputs": [],
   "source": [
    "draw.text((50, 50), \"What's up?\", fill=None, font=None, anchor=None, spacing=0, align=\"left\", direction=None, features=None)\n",
    "im.show()"
   ]
  },
  {
   "cell_type": "markdown",
   "metadata": {},
   "source": [
    "Модуль ImageEnhance содержит ряд классов , которые могут быть использованы для улучшения изображения:\n",
    "Все классы повышения реализуют общий интерфейс, содержащий один метод:Все классы повышения реализуют общий интерфейс, содержащий один метод: enhance(factor) - Возвращает улучшенное изображение (яркость, контрастность и тд)\n",
    "ImageEnhance.Color( image ) - регулирует баланс цвета изображения.\n",
    "ImageEnhance.Contrast( image ) - регулирует контрастность изображения.\n",
    "ImageEnhance.Sharpness( image ) - регулирует резкость изображения."
   ]
  },
  {
   "cell_type": "code",
   "execution_count": 2,
   "metadata": {},
   "outputs": [],
   "source": [
    "im3.show()"
   ]
  },
  {
   "cell_type": "code",
   "execution_count": 245,
   "metadata": {},
   "outputs": [
    {
     "data": {
      "image/png": "[encoded data removed]",
      "text/plain": [
       "<PIL.Image.Image image mode=RGB size=300x100 at 0x2748D3AF128>"
      ]
     },
     "execution_count": 245,
     "metadata": {},
     "output_type": "execute_result"
    }
   ],
   "source": [
    "from PIL import ImageEnhance\n",
    "im = ImageEnhance.Sharpness(im3)\n",
    "im.enhance(0.2)"
   ]
  },
  {
   "cell_type": "code",
   "execution_count": 250,
   "metadata": {},
   "outputs": [
    {
     "data": {
      "image/png": "[encoded data removed]",
      "text/plain": [
       "<PIL.Image.Image image mode=RGB size=300x100 at 0x2748D3AFBA8>"
      ]
     },
     "execution_count": 250,
     "metadata": {},
     "output_type": "execute_result"
    }
   ],
   "source": [
    "im = ImageEnhance.Color(im3)\n",
    "im.enhance(0.2)"
   ]
  },
  {
   "cell_type": "code",
   "execution_count": 256,
   "metadata": {},
   "outputs": [
    {
     "data": {
      "image/png": "[encoded data removed]",
      "text/plain": [
       "<PIL.Image.Image image mode=RGB size=300x100 at 0x2748CFDB668>"
      ]
     },
     "execution_count": 256,
     "metadata": {},
     "output_type": "execute_result"
    }
   ],
   "source": [
    "im = ImageEnhance.Contrast(im3)\n",
    "im.enhance(0.5)"
   ]
  },
  {
   "cell_type": "markdown",
   "metadata": {},
   "source": [
    "Еще один полезный модуль ImageGrab может быть использован для копирования содержимого экрана или буфера обмена в PIL память изображения."
   ]
  },
  {
   "cell_type": "code",
   "execution_count": 260,
   "metadata": {},
   "outputs": [],
   "source": [
    "from PIL import ImageGrab\n",
    "im4=ImageGrab.grab(bbox=(0,0,500,500))\n",
    "im4.show()"
   ]
  },
  {
   "cell_type": "markdown",
   "metadata": {},
   "source": [
    "Также с помощью модуля ImageSequence мы можем получить отдельные кадры из анимации"
   ]
  },
  {
   "cell_type": "code",
   "execution_count": 282,
   "metadata": {},
   "outputs": [],
   "source": [
    "from PIL import ImageSequence\n",
    "\n",
    "im = Image.open(\"C:/Users/позитроника/Desktop/orig.gif\")\n",
    "\n",
    "index = 1\n",
    "for frame in ImageSequence.Iterator(im):\n",
    "    frame.save(\"frame%d.png\" % index)\n",
    "    index += 1\n",
    "    "
   ]
  },
  {
   "cell_type": "markdown",
   "metadata": {},
   "source": [
    "В заключении хочу отметить, что модули ImageQt и ImageTk библиотеки Python Imaging Library содержат поддержку для создания и редактирования PyQt4, PyQt5, PySide, Tkinter BitmapImage и PhotoImage объектов из PIL изображений."
   ]
  }
 ],
 "metadata": {
  "kernelspec": {
   "display_name": "Python 3",
   "language": "python",
   "name": "python3"
  },
  "language_info": {
   "codemirror_mode": {
    "name": "ipython",
    "version": 3
   },
   "file_extension": ".py",
   "mimetype": "text/x-python",
   "name": "python",
   "nbconvert_exporter": "python",
   "pygments_lexer": "ipython3",
   "version": "3.6.6"
  }
 },
 "nbformat": 4,
 "nbformat_minor": 2
}
